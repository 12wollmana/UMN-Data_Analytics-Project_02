{
 "cells": [
  {
   "cell_type": "code",
   "execution_count": null,
   "metadata": {},
   "outputs": [],
   "source": [
    "#Import Library\n",
    "import pandas as pd"
   ]
  },
  {
   "cell_type": "code",
   "execution_count": null,
   "metadata": {},
   "outputs": [],
   "source": [
    "#Import Dataset\n",
    "data=pd.read_csv('database/data/external/Police_Use_of_Force.csv')"
   ]
  },
  {
   "cell_type": "code",
   "execution_count": null,
   "metadata": {},
   "outputs": [],
   "source": [
    "#show data columns\n",
    "data.columns"
   ]
  },
  {
   "cell_type": "code",
   "execution_count": null,
   "metadata": {},
   "outputs": [],
   "source": [
    "#add year, month, day, hour into dataset\n",
    "data['date']=data['ResponseDate'].apply(lambda x:x.split(' ')[0])\n",
    "data['time']=data['ResponseDate'].apply(lambda x:x.split(' ')[1])\n",
    "data['year']=data['date'].apply(lambda x:x.split('/')[0])\n",
    "data['month']=data['date'].apply(lambda x:x.split('/')[1])\n",
    "data['day']=data['date'].apply(lambda x:x.split('/')[2])\n",
    "data['hour']=data['time'].apply(lambda x:x.split(':')[0])"
   ]
  },
  {
   "cell_type": "code",
   "execution_count": null,
   "metadata": {},
   "outputs": [],
   "source": [
    "#drop duplicates columns\n",
    "data = data.drop(['X','Y','CenterX','CenterY','DateAdded'],axis=1)"
   ]
  },
  {
   "cell_type": "code",
   "execution_count": null,
   "metadata": {},
   "outputs": [],
   "source": [
    "#columns \n",
    "data.columns"
   ]
  },
  {
   "cell_type": "code",
   "execution_count": null,
   "metadata": {
    "scrolled": true
   },
   "outputs": [],
   "source": [
    "data.head()"
   ]
  },
  {
   "cell_type": "code",
   "execution_count": null,
   "metadata": {},
   "outputs": [],
   "source": []
  },
  {
   "cell_type": "markdown",
   "metadata": {},
   "source": [
    "# subject_tb"
   ]
  },
  {
   "cell_type": "code",
   "execution_count": null,
   "metadata": {},
   "outputs": [],
   "source": [
    "subject_tb = data[['OBJECTID','Race','Sex','EventAge','SubjectInjury','SubjectRole','SubjectRoleNumber','TypeOfResistance']]\n",
    "subject_tb = subject_tb.rename(columns={'OBJECTID':'subject_id','Race':'race','Sex':'sex','EventAge':'age',\n",
    "                                     'SubjectInjury':'has_injury','SubjectRole':'role',\n",
    "                                     'SubjectRoleNumber':'role_number','TypeOfResistance':'resistance'})\n",
    "subject_tb['age'].fillna(0,inplace=True)\n",
    "subject_tb['role_number'].fillna(0,inplace=True)\n",
    "subject_tb['resistance'].fillna(\"Null\",inplace=True)\n",
    "subject_tb['sex'].fillna('Null',inplace=True)\n",
    "subject_tb['sex'].replace('not recorded','Null',inplace=True)\n",
    "subject_tb['role']=subject_tb['role'].apply(lambda x: str(x).strip().replace('PERSON IN CRISIS','PIC'))\n",
    "subject_tb['race'].fillna(\"Null\",inplace=True)\n",
    "\n",
    "subject_tb['age'] = subject_tb['age'].astype('int')\n",
    "subject_tb['role_number'] = subject_tb['role_number'].astype('int')\n",
    "subject_tb.head()"
   ]
  },
  {
   "cell_type": "code",
   "execution_count": null,
   "metadata": {},
   "outputs": [],
   "source": [
    "subject_tb.to_csv('database/data/external/subject_tb.csv',index=False)"
   ]
  },
  {
   "cell_type": "markdown",
   "metadata": {},
   "source": [
    "# city_tb"
   ]
  },
  {
   "cell_type": "code",
   "execution_count": null,
   "metadata": {},
   "outputs": [],
   "source": [
    "city_tb = pd.DataFrame({'city_id':0,'city_name':'Minneapolis'},index=[0])\n",
    "city_tb.head()"
   ]
  },
  {
   "cell_type": "code",
   "execution_count": null,
   "metadata": {},
   "outputs": [],
   "source": [
    "city_tb.to_csv('database/data/external/city_tb.csv',index=False)"
   ]
  },
  {
   "cell_type": "markdown",
   "metadata": {},
   "source": [
    "# city_summary_tb"
   ]
  },
  {
   "cell_type": "code",
   "execution_count": null,
   "metadata": {},
   "outputs": [],
   "source": [
    "city_summary_tb = data[['year','TotalCityCallsForYear']]\n",
    "city_summary_tb = city_summary_tb.drop_duplicates()\n",
    "city_summary_tb = city_summary_tb.reset_index(drop=True)\n",
    "city_summary_tb = city_summary_tb.reset_index()\n",
    "city_summary_tb['city_id'] = 0\n",
    "city_summary_tb = city_summary_tb[['index','city_id','year','TotalCityCallsForYear']]\n",
    "city_summary_tb = city_summary_tb.rename(columns={'index':'city_summary_id','TotalCityCallsForYear':'total_calls'})\n",
    "city_summary_tb.head()"
   ]
  },
  {
   "cell_type": "code",
   "execution_count": null,
   "metadata": {},
   "outputs": [],
   "source": [
    "city_summary_tb.to_csv('database/data/external/city_summary_tb.csv',index=False)"
   ]
  },
  {
   "cell_type": "markdown",
   "metadata": {},
   "source": [
    "# precinct_tb"
   ]
  },
  {
   "cell_type": "code",
   "execution_count": null,
   "metadata": {},
   "outputs": [],
   "source": [
    "precinct_list=list(data['Precinct'].unique())\n",
    "precinct_list[-2]='Null'\n",
    "precinct_dict={}\n",
    "n=0\n",
    "for i in (precinct_list):\n",
    "    n=n+1\n",
    "    precinct_dict.update({i:n})"
   ]
  },
  {
   "cell_type": "code",
   "execution_count": null,
   "metadata": {},
   "outputs": [],
   "source": [
    "precinct_tb = data['Precinct'].drop_duplicates().fillna(\"Null\").reset_index(drop=True).reset_index()\n",
    "precinct_tb['index'] = precinct_tb['Precinct'].apply(lambda x:precinct_dict[x])\n",
    "precinct_tb = precinct_tb.rename(columns={'index':'precinct_id','Precinct':\"precinct_name\"})\n",
    "precinct_tb.head()"
   ]
  },
  {
   "cell_type": "code",
   "execution_count": null,
   "metadata": {},
   "outputs": [],
   "source": [
    "precinct_tb.to_csv('database/data/external/precinct_tb.csv',index=False)"
   ]
  },
  {
   "cell_type": "markdown",
   "metadata": {},
   "source": [
    "# precinct_summary"
   ]
  },
  {
   "cell_type": "code",
   "execution_count": null,
   "metadata": {},
   "outputs": [],
   "source": [
    "precinct_raw = data['Precinct'].fillna(\"Null\").reset_index(drop=True).reset_index()\n",
    "precinct_raw['index'] = precinct_raw['Precinct'].apply(lambda x:precinct_dict[x])\n",
    "precinct_raw =precinct_raw.rename(columns={'index':'precinct_id','Precinct':\"precinct_name\"})"
   ]
  },
  {
   "cell_type": "code",
   "execution_count": null,
   "metadata": {},
   "outputs": [],
   "source": [
    "precinct_summary_tb_b4=precinct_raw.join(data['year'])\n",
    "precinct_summary_tb_b4['count']=1"
   ]
  },
  {
   "cell_type": "code",
   "execution_count": null,
   "metadata": {},
   "outputs": [],
   "source": [
    "total=(precinct_summary_tb_b4.groupby(['precinct_id','precinct_name','year']).sum())['count']\n",
    "total_list = list(total)"
   ]
  },
  {
   "cell_type": "code",
   "execution_count": null,
   "metadata": {},
   "outputs": [],
   "source": [
    "precinct_summary_tb = precinct_summary_tb_b4.sort_values(['precinct_id','precinct_name','year']).drop_duplicates().reset_index(drop=True).reset_index()\n",
    "precinct_summary_tb = precinct_summary_tb.rename(columns = {'index':'precinct_summary_id'})\n",
    "precinct_summary_tb = precinct_summary_tb.drop(['count','precinct_name'],axis=1)\n",
    "precinct_summary_tb['total_calls'] = total_list\n",
    "precinct_summary_tb.head()"
   ]
  },
  {
   "cell_type": "code",
   "execution_count": null,
   "metadata": {},
   "outputs": [],
   "source": [
    "precinct_summary_tb.to_csv('database/data/external/precinct_summary_tb.csv',index=False)"
   ]
  },
  {
   "cell_type": "markdown",
   "metadata": {},
   "source": [
    "# neightborhood_tb"
   ]
  },
  {
   "cell_type": "code",
   "execution_count": null,
   "metadata": {},
   "outputs": [],
   "source": [
    "neighborhood_list = list(data['Neighborhood'].fillna('Null').drop_duplicates())\n",
    "neighborhood_dict={}\n",
    "n=0\n",
    "for i in neighborhood_list:\n",
    "    n=n+1\n",
    "    neighborhood_dict.update({i:n})"
   ]
  },
  {
   "cell_type": "code",
   "execution_count": null,
   "metadata": {},
   "outputs": [],
   "source": [
    "neighborhood_tb = pd.DataFrame({'neighborhood_id':list(neighborhood_dict.values()),\n",
    "                                'neighborhood_name':list(neighborhood_dict.keys())})"
   ]
  },
  {
   "cell_type": "code",
   "execution_count": null,
   "metadata": {},
   "outputs": [],
   "source": [
    "neighborhood_tb.head()"
   ]
  },
  {
   "cell_type": "code",
   "execution_count": null,
   "metadata": {},
   "outputs": [],
   "source": [
    "neighborhood_tb.to_csv('database/data/external/neighborhood_tb.csv',index=False)"
   ]
  },
  {
   "cell_type": "markdown",
   "metadata": {},
   "source": [
    "# neightborhood_summary_tb"
   ]
  },
  {
   "cell_type": "code",
   "execution_count": null,
   "metadata": {},
   "outputs": [],
   "source": [
    "neighborhood_summary_raw = data[['Neighborhood','year']].copy()\n",
    "neighborhood_summary_raw['count']=1\n",
    "neighborhood_summary_raw['Neighborhood'].fillna('Null')\n",
    "neighborhood_summary_raw['neighborhood_id']=neighborhood_summary_raw['Neighborhood'].fillna('Null')\\\n",
    "                                            .apply(lambda x:neighborhood_dict[x])\n",
    "neighborhood_summary_raw = neighborhood_summary_raw.drop('Neighborhood',axis=1)"
   ]
  },
  {
   "cell_type": "code",
   "execution_count": null,
   "metadata": {},
   "outputs": [],
   "source": [
    "total=(neighborhood_summary_raw.groupby(['neighborhood_id','year']).sum())['count']\n",
    "total_list = list(total)"
   ]
  },
  {
   "cell_type": "code",
   "execution_count": null,
   "metadata": {},
   "outputs": [],
   "source": [
    "neighborhood_summary_tb = neighborhood_summary_raw.copy()\n",
    "neighborhood_summary_tb = neighborhood_summary_tb.drop_duplicates().sort_values(['neighborhood_id','year'])\n",
    "neighborhood_summary_tb = neighborhood_summary_tb[['neighborhood_id','year']]\n",
    "neighborhood_summary_tb['total_calls'] = total_list\n",
    "neighborhood_summary_tb = neighborhood_summary_tb.reset_index(drop=True).reset_index()\n",
    "neighborhood_summary_tb = neighborhood_summary_tb.rename(columns={'index':'neigborhood_summary_id'})\n",
    "neighborhood_summary_tb.head()"
   ]
  },
  {
   "cell_type": "code",
   "execution_count": null,
   "metadata": {},
   "outputs": [],
   "source": [
    "neighborhood_summary_tb.to_csv('database/data/external/neighborhood_summary_tb.csv',index=False)"
   ]
  },
  {
   "cell_type": "markdown",
   "metadata": {},
   "source": [
    "# force_categories_tb"
   ]
  },
  {
   "cell_type": "code",
   "execution_count": null,
   "metadata": {},
   "outputs": [],
   "source": [
    "force_categories_tb = data['ForceType'].copy()\n",
    "force_categories_tb.fillna(\"Null\",inplace=True)\n",
    "force_categories_tb = force_categories_tb.drop_duplicates().reset_index(drop=True).reset_index()\n",
    "force_categories_tb = force_categories_tb.rename(columns={'index':'force_category_id','ForceType':'category'})\n",
    "force_categories_tb.head()"
   ]
  },
  {
   "cell_type": "code",
   "execution_count": null,
   "metadata": {},
   "outputs": [],
   "source": [
    "force_categories_tb.to_csv('database/data/external/force_categories_tb.csv',index=False)"
   ]
  },
  {
   "cell_type": "markdown",
   "metadata": {},
   "source": [
    "# police_force"
   ]
  },
  {
   "cell_type": "code",
   "execution_count": null,
   "metadata": {},
   "outputs": [],
   "source": [
    "force_dict={}\n",
    "for i in range(len(force_categories_tb)):\n",
    "    force_dict.update({force_categories_tb.iloc[i,1]:force_categories_tb.iloc[i,0]})"
   ]
  },
  {
   "cell_type": "code",
   "execution_count": null,
   "metadata": {},
   "outputs": [],
   "source": [
    "force_dict"
   ]
  },
  {
   "cell_type": "code",
   "execution_count": null,
   "metadata": {},
   "outputs": [],
   "source": [
    "data.columns"
   ]
  },
  {
   "cell_type": "code",
   "execution_count": null,
   "metadata": {},
   "outputs": [],
   "source": [
    "police_force_tb = data[['ForceType','OBJECTID','PoliceUseOfForceID','ForceReportNumber','ForceTypeAction']].copy()\n",
    "police_force_tb.fillna(\"Null\",inplace=True)\n",
    "police_force_tb['force_category_id'] = police_force_tb['ForceType'].apply(lambda x: force_dict[x])\n",
    "police_force_tb = police_force_tb.reset_index(drop=True).reset_index()\n",
    "police_force_tb = police_force_tb[[\"index\",'PoliceUseOfForceID','force_category_id',\n",
    "                                   'ForceTypeAction','ForceReportNumber','OBJECTID']]\n",
    "police_force_tb = police_force_tb.rename(columns={'index':'police_force_id','PoliceUseOfForceID':'force_number',\n",
    "                                                 'ForceTypeAction':'force_action','ForceReportNumber':\"force_report_number\",\n",
    "                                                 'OBJECTID':'subject_id'})\n",
    "police_force_tb.head()"
   ]
  },
  {
   "cell_type": "code",
   "execution_count": null,
   "metadata": {},
   "outputs": [],
   "source": [
    "police_force_tb.to_csv('database/data/external/police_force_tb_tb.csv',index=False)"
   ]
  },
  {
   "cell_type": "markdown",
   "metadata": {},
   "source": [
    "# case_tb"
   ]
  },
  {
   "cell_type": "code",
   "execution_count": null,
   "metadata": {},
   "outputs": [],
   "source": [
    "import datetime"
   ]
  },
  {
   "cell_type": "code",
   "execution_count": null,
   "metadata": {
    "scrolled": true
   },
   "outputs": [],
   "source": [
    "case_tb=data[['OBJECTID','CaseNumber','Is911Call','Problem','PrimaryOffense','ResponseDate','CenterLatitude',\n",
    "             'CenterLongitude','Precinct','Neighborhood']]\n",
    "case_tb=case_tb.rename(columns={'OBJECTID':'case_id','CaseNumber':'case_number','Is911Call':'is_911_call',\n",
    "                       'Problem':'problem','PrimaryOffense':'primary_offense','CenterLatitude':'latitude',\n",
    "                       'CenterLongitude':'longitude','Precinct':'precinct_id','Neighborhood':'neighborhood_id'})\n",
    "\n",
    "case_tb['date']=case_tb['ResponseDate'].apply(lambda x:x.split(' ')[0])\n",
    "case_tb['time']=case_tb['ResponseDate'].apply(lambda x:x.split(' ')[1])\n",
    "case_tb['year']=case_tb['date'].apply(lambda x:x.split('/')[0])\n",
    "case_tb['month']=case_tb['date'].apply(lambda x:x.split('/')[1])\n",
    "case_tb['day']=case_tb['date'].apply(lambda x:x.split('/')[2])\n",
    "case_tb['hour']=case_tb['time'].apply(lambda x:int(x.split(':')[0]))\n",
    "case_tb['date']=case_tb['date'].apply(lambda x:x.replace(\"/\",\"\"))\n",
    "\n",
    "\n",
    "case_tb['neighborhood_id'] = case_tb['neighborhood_id'].fillna('Null')\n",
    "case_tb['neighborhood_id']=case_tb['neighborhood_id'].apply(lambda x:neighborhood_dict[x])\n",
    "case_tb['city_id']=0\n",
    "case_tb=case_tb.drop(['ResponseDate','time'],axis=1)\n",
    "case_tb['hour']=case_tb['hour'].fillna(\"-1\")\n",
    "case_tb['police_force_id']=case_tb['case_id'].apply(lambda x: x-1)\n",
    "case_tb['problem'].fillna('Null',inplace=True)\n",
    "case_tb['precinct_id'].fillna('Null',inplace=True)\n",
    "case_tb['precinct_id']=case_tb['precinct_id'].apply(lambda x: precinct_dict[x])\n",
    "case_tb['primary_offense'].fillna(\"Null\",inplace=True)\n",
    "\n",
    "\n",
    "case_tb=case_tb[['case_id','case_number','is_911_call','problem','primary_offense','date','latitude',\n",
    "                'longitude','city_id','precinct_id','neighborhood_id','police_force_id','year','month','day','hour']]\n",
    "case_tb.head()"
   ]
  },
  {
   "cell_type": "code",
   "execution_count": null,
   "metadata": {},
   "outputs": [],
   "source": [
    "case_tb.to_csv('database/data/external/case_tb.csv',index=False)"
   ]
  },
  {
   "cell_type": "code",
   "execution_count": null,
   "metadata": {},
   "outputs": [],
   "source": []
  }
 ],
 "metadata": {
  "kernelspec": {
   "display_name": "Python 3",
   "language": "python",
   "name": "python3"
  },
  "language_info": {
   "codemirror_mode": {
    "name": "ipython",
    "version": 3
   },
   "file_extension": ".py",
   "mimetype": "text/x-python",
   "name": "python",
   "nbconvert_exporter": "python",
   "pygments_lexer": "ipython3",
   "version": "3.7.4"
  }
 },
 "nbformat": 4,
 "nbformat_minor": 2
}
