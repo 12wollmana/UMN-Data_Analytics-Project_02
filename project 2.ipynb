{
 "cells": [
  {
   "cell_type": "code",
   "execution_count": 1,
   "metadata": {},
   "outputs": [],
   "source": [
    "#Import Library\n",
    "import pandas as pd"
   ]
  },
  {
   "cell_type": "code",
   "execution_count": 2,
   "metadata": {},
   "outputs": [],
   "source": [
    "#Import Dataset\n",
    "data=pd.read_csv('Police_Use_of_Force.csv')"
   ]
  },
  {
   "cell_type": "code",
   "execution_count": 3,
   "metadata": {},
   "outputs": [
    {
     "data": {
      "text/plain": [
       "Index(['X', 'Y', 'PoliceUseOfForceID', 'CaseNumber', 'ResponseDate', 'Problem',\n",
       "       'Is911Call', 'PrimaryOffense', 'SubjectInjury', 'ForceReportNumber',\n",
       "       'SubjectRole', 'SubjectRoleNumber', 'ForceType', 'ForceTypeAction',\n",
       "       'Race', 'Sex', 'EventAge', 'TypeOfResistance', 'Precinct',\n",
       "       'Neighborhood', 'TotalCityCallsForYear', 'TotalPrecinctCallsForYear',\n",
       "       'TotalNeighborhoodCallsForYear', 'CenterGBSID', 'CenterLatitude',\n",
       "       'CenterLongitude', 'CenterX', 'CenterY', 'DateAdded', 'OBJECTID'],\n",
       "      dtype='object')"
      ]
     },
     "execution_count": 3,
     "metadata": {},
     "output_type": "execute_result"
    }
   ],
   "source": [
    "#show data columns\n",
    "data.columns"
   ]
  },
  {
   "cell_type": "code",
   "execution_count": 12,
   "metadata": {},
   "outputs": [
    {
     "data": {
      "text/html": [
       "<div>\n",
       "<style scoped>\n",
       "    .dataframe tbody tr th:only-of-type {\n",
       "        vertical-align: middle;\n",
       "    }\n",
       "\n",
       "    .dataframe tbody tr th {\n",
       "        vertical-align: top;\n",
       "    }\n",
       "\n",
       "    .dataframe thead th {\n",
       "        text-align: right;\n",
       "    }\n",
       "</style>\n",
       "<table border=\"1\" class=\"dataframe\">\n",
       "  <thead>\n",
       "    <tr style=\"text-align: right;\">\n",
       "      <th></th>\n",
       "      <th>subject_id</th>\n",
       "      <th>race</th>\n",
       "      <th>sex</th>\n",
       "      <th>age</th>\n",
       "      <th>has_injury</th>\n",
       "      <th>role</th>\n",
       "      <th>role_number</th>\n",
       "      <th>resistance</th>\n",
       "    </tr>\n",
       "  </thead>\n",
       "  <tbody>\n",
       "    <tr>\n",
       "      <th>0</th>\n",
       "      <td>1</td>\n",
       "      <td>Black</td>\n",
       "      <td>Male</td>\n",
       "      <td>28.0</td>\n",
       "      <td>NaN</td>\n",
       "      <td>A</td>\n",
       "      <td>1.0</td>\n",
       "      <td>Fled in Vehicle</td>\n",
       "    </tr>\n",
       "    <tr>\n",
       "      <th>1</th>\n",
       "      <td>2</td>\n",
       "      <td>Black</td>\n",
       "      <td>Male</td>\n",
       "      <td>32.0</td>\n",
       "      <td>Yes</td>\n",
       "      <td>A</td>\n",
       "      <td>1.0</td>\n",
       "      <td>Assaulted Officer</td>\n",
       "    </tr>\n",
       "    <tr>\n",
       "      <th>2</th>\n",
       "      <td>3</td>\n",
       "      <td>White</td>\n",
       "      <td>Male</td>\n",
       "      <td>26.0</td>\n",
       "      <td>Yes</td>\n",
       "      <td>A</td>\n",
       "      <td>1.0</td>\n",
       "      <td>Fled in Vehicle</td>\n",
       "    </tr>\n",
       "    <tr>\n",
       "      <th>3</th>\n",
       "      <td>4</td>\n",
       "      <td>Black</td>\n",
       "      <td>Male</td>\n",
       "      <td>18.0</td>\n",
       "      <td>No</td>\n",
       "      <td>OT</td>\n",
       "      <td>1.0</td>\n",
       "      <td>Tensed</td>\n",
       "    </tr>\n",
       "    <tr>\n",
       "      <th>4</th>\n",
       "      <td>5</td>\n",
       "      <td>Black</td>\n",
       "      <td>Male</td>\n",
       "      <td>26.0</td>\n",
       "      <td>NaN</td>\n",
       "      <td>A</td>\n",
       "      <td>1.0</td>\n",
       "      <td>Tensed</td>\n",
       "    </tr>\n",
       "  </tbody>\n",
       "</table>\n",
       "</div>"
      ],
      "text/plain": [
       "   subject_id   race   sex   age has_injury role  role_number  \\\n",
       "0           1  Black  Male  28.0        NaN    A          1.0   \n",
       "1           2  Black  Male  32.0        Yes    A          1.0   \n",
       "2           3  White  Male  26.0        Yes    A          1.0   \n",
       "3           4  Black  Male  18.0         No   OT          1.0   \n",
       "4           5  Black  Male  26.0        NaN    A          1.0   \n",
       "\n",
       "          resistance  \n",
       "0    Fled in Vehicle  \n",
       "1  Assaulted Officer  \n",
       "2    Fled in Vehicle  \n",
       "3             Tensed  \n",
       "4             Tensed  "
      ]
     },
     "execution_count": 12,
     "metadata": {},
     "output_type": "execute_result"
    }
   ],
   "source": [
    "subject_tb=data[['OBJECTID','Race','Sex','EventAge','SubjectInjury','SubjectRole','SubjectRoleNumber','TypeOfResistance']]\n",
    "subject_tb=subject_tb.rename(columns={'OBJECTID':'subject_id','Race':'race','Sex':'sex','EventAge':'age',\n",
    "                                     'SubjectInjury':'has_injury','SubjectRole':'role',\n",
    "                                     'SubjectRoleNumber':'role_number','TypeOfResistance':'resistance'})\n",
    "subject_tb.head()"
   ]
  },
  {
   "cell_type": "code",
   "execution_count": null,
   "metadata": {},
   "outputs": [],
   "source": [
    "case_tb=data[[]]"
   ]
  },
  {
   "cell_type": "markdown",
   "metadata": {},
   "source": [
    "case\n",
    "-\n",
    "case_id = OBJECTID\n",
    "case_number = CaseNumber\n",
    "is_911_call = Is911Call\n",
    "problem = Problem\n",
    "primary_offense = PrimaryOffense\n",
    "date = ResponseDate\n",
    "latitude = CenterLatitude\n",
    "longitude = CenterLongitude\n",
    "city_id = ?\n",
    "precinct_id = Precinct\n",
    "neighborhood_id = Neighborhood"
   ]
  },
  {
   "cell_type": "code",
   "execution_count": null,
   "metadata": {},
   "outputs": [],
   "source": []
  },
  {
   "cell_type": "code",
   "execution_count": null,
   "metadata": {},
   "outputs": [],
   "source": []
  },
  {
   "cell_type": "code",
   "execution_count": null,
   "metadata": {},
   "outputs": [],
   "source": []
  },
  {
   "cell_type": "code",
   "execution_count": null,
   "metadata": {},
   "outputs": [],
   "source": []
  },
  {
   "cell_type": "code",
   "execution_count": 32,
   "metadata": {},
   "outputs": [],
   "source": [
    "temp=data[['X','Y']]\n",
    "temp['X'].apply(lambda x: float(x))\n",
    "temp['Y'].apply(lambda x: float(x))\n",
    "temp=temp[(temp['X']!=0)&(temp['Y']!=0)]"
   ]
  },
  {
   "cell_type": "code",
   "execution_count": 34,
   "metadata": {},
   "outputs": [
    {
     "data": {
      "text/html": [
       "<div>\n",
       "<style scoped>\n",
       "    .dataframe tbody tr th:only-of-type {\n",
       "        vertical-align: middle;\n",
       "    }\n",
       "\n",
       "    .dataframe tbody tr th {\n",
       "        vertical-align: top;\n",
       "    }\n",
       "\n",
       "    .dataframe thead th {\n",
       "        text-align: right;\n",
       "    }\n",
       "</style>\n",
       "<table border=\"1\" class=\"dataframe\">\n",
       "  <thead>\n",
       "    <tr style=\"text-align: right;\">\n",
       "      <th></th>\n",
       "      <th>X</th>\n",
       "      <th>Y</th>\n",
       "    </tr>\n",
       "  </thead>\n",
       "  <tbody>\n",
       "    <tr>\n",
       "      <th>count</th>\n",
       "      <td>30982.000000</td>\n",
       "      <td>30982.000000</td>\n",
       "    </tr>\n",
       "    <tr>\n",
       "      <th>mean</th>\n",
       "      <td>-93.274625</td>\n",
       "      <td>44.978649</td>\n",
       "    </tr>\n",
       "    <tr>\n",
       "      <th>std</th>\n",
       "      <td>0.022096</td>\n",
       "      <td>0.027120</td>\n",
       "    </tr>\n",
       "    <tr>\n",
       "      <th>min</th>\n",
       "      <td>-93.328628</td>\n",
       "      <td>44.890460</td>\n",
       "    </tr>\n",
       "    <tr>\n",
       "      <th>25%</th>\n",
       "      <td>-93.291053</td>\n",
       "      <td>44.960916</td>\n",
       "    </tr>\n",
       "    <tr>\n",
       "      <th>50%</th>\n",
       "      <td>-93.273516</td>\n",
       "      <td>44.979986</td>\n",
       "    </tr>\n",
       "    <tr>\n",
       "      <th>75%</th>\n",
       "      <td>-93.262672</td>\n",
       "      <td>44.998586</td>\n",
       "    </tr>\n",
       "    <tr>\n",
       "      <th>max</th>\n",
       "      <td>-93.202917</td>\n",
       "      <td>45.051245</td>\n",
       "    </tr>\n",
       "  </tbody>\n",
       "</table>\n",
       "</div>"
      ],
      "text/plain": [
       "                  X             Y\n",
       "count  30982.000000  30982.000000\n",
       "mean     -93.274625     44.978649\n",
       "std        0.022096      0.027120\n",
       "min      -93.328628     44.890460\n",
       "25%      -93.291053     44.960916\n",
       "50%      -93.273516     44.979986\n",
       "75%      -93.262672     44.998586\n",
       "max      -93.202917     45.051245"
      ]
     },
     "execution_count": 34,
     "metadata": {},
     "output_type": "execute_result"
    }
   ],
   "source": [
    "temp.describe()"
   ]
  },
  {
   "cell_type": "code",
   "execution_count": null,
   "metadata": {},
   "outputs": [],
   "source": []
  }
 ],
 "metadata": {
  "kernelspec": {
   "display_name": "Python 3",
   "language": "python",
   "name": "python3"
  },
  "language_info": {
   "codemirror_mode": {
    "name": "ipython",
    "version": 3
   },
   "file_extension": ".py",
   "mimetype": "text/x-python",
   "name": "python",
   "nbconvert_exporter": "python",
   "pygments_lexer": "ipython3",
   "version": "3.7.4"
  }
 },
 "nbformat": 4,
 "nbformat_minor": 2
}
